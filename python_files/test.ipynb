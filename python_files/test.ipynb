{
 "cells": [
  {
   "cell_type": "code",
   "execution_count": 1,
   "metadata": {},
   "outputs": [],
   "source": [
    "import pandas as pd"
   ]
  },
  {
   "cell_type": "code",
   "execution_count": 2,
   "metadata": {},
   "outputs": [
    {
     "name": "stderr",
     "output_type": "stream",
     "text": [
      "/tmp/ipykernel_229028/3357949180.py:1: DtypeWarning: Columns (2,4) have mixed types. Specify dtype option on import or set low_memory=False.\n",
      "  data = pd.read_csv('../database.csv')\n"
     ]
    },
    {
     "data": {
      "text/html": [
       "<div>\n",
       "<style scoped>\n",
       "    .dataframe tbody tr th:only-of-type {\n",
       "        vertical-align: middle;\n",
       "    }\n",
       "\n",
       "    .dataframe tbody tr th {\n",
       "        vertical-align: top;\n",
       "    }\n",
       "\n",
       "    .dataframe thead th {\n",
       "        text-align: right;\n",
       "    }\n",
       "</style>\n",
       "<table border=\"1\" class=\"dataframe\">\n",
       "  <thead>\n",
       "    <tr style=\"text-align: right;\">\n",
       "      <th></th>\n",
       "      <th>departure</th>\n",
       "      <th>return</th>\n",
       "      <th>departure_id</th>\n",
       "      <th>departure_name</th>\n",
       "      <th>return_id</th>\n",
       "      <th>return_name</th>\n",
       "      <th>distance (m)</th>\n",
       "      <th>duration (sec.)</th>\n",
       "      <th>avg_speed (km/h)</th>\n",
       "      <th>departure_latitude</th>\n",
       "      <th>departure_longitude</th>\n",
       "      <th>return_latitude</th>\n",
       "      <th>return_longitude</th>\n",
       "      <th>Air temperature (degC)</th>\n",
       "    </tr>\n",
       "  </thead>\n",
       "  <tbody>\n",
       "    <tr>\n",
       "      <th>0</th>\n",
       "      <td>2020-03-23 06:09:44</td>\n",
       "      <td>2020-03-23 06:16:26</td>\n",
       "      <td>86</td>\n",
       "      <td>Kuusitie</td>\n",
       "      <td>111.0</td>\n",
       "      <td>Esterinportti</td>\n",
       "      <td>1747.0</td>\n",
       "      <td>401.0</td>\n",
       "      <td>0.261397</td>\n",
       "      <td>60.195245</td>\n",
       "      <td>24.901900</td>\n",
       "      <td>60.197572</td>\n",
       "      <td>24.926781</td>\n",
       "      <td>0.9</td>\n",
       "    </tr>\n",
       "    <tr>\n",
       "      <th>1</th>\n",
       "      <td>2020-03-23 06:11:58</td>\n",
       "      <td>2020-03-23 06:26:31</td>\n",
       "      <td>26</td>\n",
       "      <td>Kamppi (M)</td>\n",
       "      <td>10.0</td>\n",
       "      <td>Kasarmitori</td>\n",
       "      <td>1447.0</td>\n",
       "      <td>869.0</td>\n",
       "      <td>0.099908</td>\n",
       "      <td>60.168610</td>\n",
       "      <td>24.930537</td>\n",
       "      <td>60.165017</td>\n",
       "      <td>24.949473</td>\n",
       "      <td>0.9</td>\n",
       "    </tr>\n",
       "    <tr>\n",
       "      <th>2</th>\n",
       "      <td>2020-03-23 06:16:29</td>\n",
       "      <td>2020-03-23 06:24:23</td>\n",
       "      <td>268</td>\n",
       "      <td>Porolahden koulu</td>\n",
       "      <td>254.0</td>\n",
       "      <td>Agnetankuja</td>\n",
       "      <td>1772.0</td>\n",
       "      <td>469.0</td>\n",
       "      <td>0.226695</td>\n",
       "      <td>60.195540</td>\n",
       "      <td>25.053581</td>\n",
       "      <td>60.187234</td>\n",
       "      <td>25.036412</td>\n",
       "      <td>0.9</td>\n",
       "    </tr>\n",
       "    <tr>\n",
       "      <th>3</th>\n",
       "      <td>2020-03-23 06:33:53</td>\n",
       "      <td>2020-03-23 07:14:03</td>\n",
       "      <td>751</td>\n",
       "      <td>Vallipolku</td>\n",
       "      <td>106.0</td>\n",
       "      <td>Korppaanmäentie</td>\n",
       "      <td>7456.0</td>\n",
       "      <td>2406.0</td>\n",
       "      <td>0.185935</td>\n",
       "      <td>60.227827</td>\n",
       "      <td>24.819614</td>\n",
       "      <td>60.203474</td>\n",
       "      <td>24.898930</td>\n",
       "      <td>0.9</td>\n",
       "    </tr>\n",
       "    <tr>\n",
       "      <th>4</th>\n",
       "      <td>2020-03-23 06:36:09</td>\n",
       "      <td>2020-03-23 07:04:10</td>\n",
       "      <td>62</td>\n",
       "      <td>Länsisatamankatu</td>\n",
       "      <td>121.0</td>\n",
       "      <td>Vilhonvuorenkatu</td>\n",
       "      <td>7120.0</td>\n",
       "      <td>1679.0</td>\n",
       "      <td>0.254437</td>\n",
       "      <td>60.158928</td>\n",
       "      <td>24.909692</td>\n",
       "      <td>60.186463</td>\n",
       "      <td>24.967872</td>\n",
       "      <td>0.9</td>\n",
       "    </tr>\n",
       "    <tr>\n",
       "      <th>...</th>\n",
       "      <td>...</td>\n",
       "      <td>...</td>\n",
       "      <td>...</td>\n",
       "      <td>...</td>\n",
       "      <td>...</td>\n",
       "      <td>...</td>\n",
       "      <td>...</td>\n",
       "      <td>...</td>\n",
       "      <td>...</td>\n",
       "      <td>...</td>\n",
       "      <td>...</td>\n",
       "      <td>...</td>\n",
       "      <td>...</td>\n",
       "      <td>...</td>\n",
       "    </tr>\n",
       "    <tr>\n",
       "      <th>12157453</th>\n",
       "      <td>2017-10-30 23:43:00</td>\n",
       "      <td>2017-10-30 23:55:00</td>\n",
       "      <td>64.0</td>\n",
       "      <td>Tyynenmerenkatu</td>\n",
       "      <td>64.0</td>\n",
       "      <td>Tyynenmerenkatu</td>\n",
       "      <td>918.0</td>\n",
       "      <td>714.0</td>\n",
       "      <td>0.077143</td>\n",
       "      <td>60.156838</td>\n",
       "      <td>24.920661</td>\n",
       "      <td>60.156838</td>\n",
       "      <td>24.920661</td>\n",
       "      <td>0.4</td>\n",
       "    </tr>\n",
       "    <tr>\n",
       "      <th>12157454</th>\n",
       "      <td>2017-10-30 23:49:00</td>\n",
       "      <td>2017-10-31 04:49:00</td>\n",
       "      <td>117.0</td>\n",
       "      <td>Brahen puistikko</td>\n",
       "      <td>44.0</td>\n",
       "      <td>Sörnäinen (M)</td>\n",
       "      <td>822.0</td>\n",
       "      <td>252.0</td>\n",
       "      <td>0.195714</td>\n",
       "      <td>60.189671</td>\n",
       "      <td>24.948102</td>\n",
       "      <td>60.187736</td>\n",
       "      <td>24.960980</td>\n",
       "      <td>0.4</td>\n",
       "    </tr>\n",
       "    <tr>\n",
       "      <th>12157455</th>\n",
       "      <td>2017-10-30 23:52:00</td>\n",
       "      <td>2017-10-31 00:02:00</td>\n",
       "      <td>142.0</td>\n",
       "      <td>Koskelantie</td>\n",
       "      <td>141.0</td>\n",
       "      <td>Intiankatu</td>\n",
       "      <td>1817.0</td>\n",
       "      <td>594.0</td>\n",
       "      <td>0.183535</td>\n",
       "      <td>60.208749</td>\n",
       "      <td>24.946514</td>\n",
       "      <td>60.207858</td>\n",
       "      <td>24.967638</td>\n",
       "      <td>0.4</td>\n",
       "    </tr>\n",
       "    <tr>\n",
       "      <th>12157456</th>\n",
       "      <td>2017-10-30 23:57:00</td>\n",
       "      <td>2017-10-31 00:00:00</td>\n",
       "      <td>28.0</td>\n",
       "      <td>Lastenlehto</td>\n",
       "      <td>26.0</td>\n",
       "      <td>Kamppi (M)</td>\n",
       "      <td>416.0</td>\n",
       "      <td>152.0</td>\n",
       "      <td>0.164211</td>\n",
       "      <td>60.165812</td>\n",
       "      <td>24.927021</td>\n",
       "      <td>60.168610</td>\n",
       "      <td>24.930537</td>\n",
       "      <td>0.4</td>\n",
       "    </tr>\n",
       "    <tr>\n",
       "      <th>12157457</th>\n",
       "      <td>2017-10-30 23:59:00</td>\n",
       "      <td>2017-10-31 00:12:00</td>\n",
       "      <td>20.0</td>\n",
       "      <td>Kaisaniemenpuisto</td>\n",
       "      <td>114.0</td>\n",
       "      <td>Ratapihantie</td>\n",
       "      <td>2856.0</td>\n",
       "      <td>771.0</td>\n",
       "      <td>0.222257</td>\n",
       "      <td>60.173199</td>\n",
       "      <td>24.943301</td>\n",
       "      <td>60.196431</td>\n",
       "      <td>24.936256</td>\n",
       "      <td>0.4</td>\n",
       "    </tr>\n",
       "  </tbody>\n",
       "</table>\n",
       "<p>12157458 rows × 14 columns</p>\n",
       "</div>"
      ],
      "text/plain": [
       "                    departure               return departure_id  \\\n",
       "0         2020-03-23 06:09:44  2020-03-23 06:16:26           86   \n",
       "1         2020-03-23 06:11:58  2020-03-23 06:26:31           26   \n",
       "2         2020-03-23 06:16:29  2020-03-23 06:24:23          268   \n",
       "3         2020-03-23 06:33:53  2020-03-23 07:14:03          751   \n",
       "4         2020-03-23 06:36:09  2020-03-23 07:04:10           62   \n",
       "...                       ...                  ...          ...   \n",
       "12157453  2017-10-30 23:43:00  2017-10-30 23:55:00         64.0   \n",
       "12157454  2017-10-30 23:49:00  2017-10-31 04:49:00        117.0   \n",
       "12157455  2017-10-30 23:52:00  2017-10-31 00:02:00        142.0   \n",
       "12157456  2017-10-30 23:57:00  2017-10-31 00:00:00         28.0   \n",
       "12157457  2017-10-30 23:59:00  2017-10-31 00:12:00         20.0   \n",
       "\n",
       "             departure_name return_id       return_name  distance (m)  \\\n",
       "0                  Kuusitie     111.0     Esterinportti        1747.0   \n",
       "1                Kamppi (M)      10.0       Kasarmitori        1447.0   \n",
       "2          Porolahden koulu     254.0       Agnetankuja        1772.0   \n",
       "3                Vallipolku     106.0   Korppaanmäentie        7456.0   \n",
       "4          Länsisatamankatu     121.0  Vilhonvuorenkatu        7120.0   \n",
       "...                     ...       ...               ...           ...   \n",
       "12157453    Tyynenmerenkatu      64.0   Tyynenmerenkatu         918.0   \n",
       "12157454   Brahen puistikko      44.0     Sörnäinen (M)         822.0   \n",
       "12157455        Koskelantie     141.0        Intiankatu        1817.0   \n",
       "12157456        Lastenlehto      26.0        Kamppi (M)         416.0   \n",
       "12157457  Kaisaniemenpuisto     114.0      Ratapihantie        2856.0   \n",
       "\n",
       "          duration (sec.)  avg_speed (km/h)  departure_latitude  \\\n",
       "0                   401.0          0.261397           60.195245   \n",
       "1                   869.0          0.099908           60.168610   \n",
       "2                   469.0          0.226695           60.195540   \n",
       "3                  2406.0          0.185935           60.227827   \n",
       "4                  1679.0          0.254437           60.158928   \n",
       "...                   ...               ...                 ...   \n",
       "12157453            714.0          0.077143           60.156838   \n",
       "12157454            252.0          0.195714           60.189671   \n",
       "12157455            594.0          0.183535           60.208749   \n",
       "12157456            152.0          0.164211           60.165812   \n",
       "12157457            771.0          0.222257           60.173199   \n",
       "\n",
       "          departure_longitude  return_latitude  return_longitude  \\\n",
       "0                   24.901900        60.197572         24.926781   \n",
       "1                   24.930537        60.165017         24.949473   \n",
       "2                   25.053581        60.187234         25.036412   \n",
       "3                   24.819614        60.203474         24.898930   \n",
       "4                   24.909692        60.186463         24.967872   \n",
       "...                       ...              ...               ...   \n",
       "12157453            24.920661        60.156838         24.920661   \n",
       "12157454            24.948102        60.187736         24.960980   \n",
       "12157455            24.946514        60.207858         24.967638   \n",
       "12157456            24.927021        60.168610         24.930537   \n",
       "12157457            24.943301        60.196431         24.936256   \n",
       "\n",
       "          Air temperature (degC)  \n",
       "0                            0.9  \n",
       "1                            0.9  \n",
       "2                            0.9  \n",
       "3                            0.9  \n",
       "4                            0.9  \n",
       "...                          ...  \n",
       "12157453                     0.4  \n",
       "12157454                     0.4  \n",
       "12157455                     0.4  \n",
       "12157456                     0.4  \n",
       "12157457                     0.4  \n",
       "\n",
       "[12157458 rows x 14 columns]"
      ]
     },
     "execution_count": 2,
     "metadata": {},
     "output_type": "execute_result"
    }
   ],
   "source": [
    "data = pd.read_csv('../database.csv')\n",
    "data"
   ]
  },
  {
   "cell_type": "code",
   "execution_count": 1,
   "metadata": {},
   "outputs": [],
   "source": [
    "import boto3"
   ]
  },
  {
   "cell_type": "code",
   "execution_count": 53,
   "metadata": {},
   "outputs": [],
   "source": [
    "import logging\n",
    "import boto3\n",
    "from botocore.exceptions import ClientError\n",
    "import json\n",
    "\n",
    "AWS_REGION = 'eu-west-1'\n",
    "\n",
    "# logger config\n",
    "logger = logging.getLogger()\n",
    "logging.basicConfig(level=logging.INFO,\n",
    "                    format='%(asctime)s: %(levelname)s: %(message)s')\n",
    "\n",
    "endpoint_url = \"http://localhost:4566\"\n",
    "sqs_resource = boto3.resource(\"sqs\", region_name=AWS_REGION, endpoint_url=endpoint_url)"
   ]
  },
  {
   "cell_type": "code",
   "execution_count": 54,
   "metadata": {},
   "outputs": [],
   "source": [
    "def create_queue(queue_name, delay_seconds, visiblity_timeout):\n",
    "    \"\"\"\n",
    "    Create a standard SQS queue\n",
    "    \"\"\"\n",
    "    try:\n",
    "        response = sqs_resource.create_queue(QueueName=queue_name,\n",
    "                                             Attributes={\n",
    "                                                 'DelaySeconds': delay_seconds,\n",
    "                                                 'VisibilityTimeout': visiblity_timeout\n",
    "                                             })\n",
    "    except ClientError:\n",
    "        logger.exception(f'Could not create SQS queue - {queue_name}.')\n",
    "        raise\n",
    "    else:\n",
    "        return response"
   ]
  },
  {
   "cell_type": "code",
   "execution_count": 64,
   "metadata": {},
   "outputs": [
    {
     "name": "stderr",
     "output_type": "stream",
     "text": [
      "2022-08-19 13:23:35,494: ERROR: Could not get the 123 queue.\n",
      "Traceback (most recent call last):\n",
      "  File \"/tmp/ipykernel_11456/3324364624.py\", line 8, in get_queue\n",
      "    response = sqs_client.get_queue_url(QueueName=queue_name)['QueueUrl']\n",
      "  File \"/home/ndx/.local/lib/python3.8/site-packages/botocore/client.py\", line 508, in _api_call\n",
      "    return self._make_api_call(operation_name, kwargs)\n",
      "  File \"/home/ndx/.local/lib/python3.8/site-packages/botocore/client.py\", line 915, in _make_api_call\n",
      "    raise error_class(parsed_response, operation_name)\n",
      "botocore.errorfactory.QueueDoesNotExist: An error occurred (AWS.SimpleQueueService.NonExistentQueue) when calling the GetQueueUrl operation: The specified queue does not exist for this wsdl version.\n"
     ]
    },
    {
     "ename": "QueueDoesNotExist",
     "evalue": "An error occurred (AWS.SimpleQueueService.NonExistentQueue) when calling the GetQueueUrl operation: The specified queue does not exist for this wsdl version.",
     "output_type": "error",
     "traceback": [
      "\u001b[0;31m---------------------------------------------------------------------------\u001b[0m",
      "\u001b[0;31mQueueDoesNotExist\u001b[0m                         Traceback (most recent call last)",
      "\u001b[1;32m/home/ndx/Innowise tasks/Innowise_task_8/python_files/test.ipynb Cell 6\u001b[0m in \u001b[0;36m<cell line: 16>\u001b[0;34m()\u001b[0m\n\u001b[1;32m     <a href='vscode-notebook-cell:/home/ndx/Innowise%20tasks/Innowise_task_8/python_files/test.ipynb#W5sZmlsZQ%3D%3D?line=12'>13</a>\u001b[0m     \u001b[39melse\u001b[39;00m:\n\u001b[1;32m     <a href='vscode-notebook-cell:/home/ndx/Innowise%20tasks/Innowise_task_8/python_files/test.ipynb#W5sZmlsZQ%3D%3D?line=13'>14</a>\u001b[0m         \u001b[39mreturn\u001b[39;00m response\n\u001b[0;32m---> <a href='vscode-notebook-cell:/home/ndx/Innowise%20tasks/Innowise_task_8/python_files/test.ipynb#W5sZmlsZQ%3D%3D?line=15'>16</a>\u001b[0m get_queue(\u001b[39m'\u001b[39;49m\u001b[39m123\u001b[39;49m\u001b[39m'\u001b[39;49m)\n",
      "\u001b[1;32m/home/ndx/Innowise tasks/Innowise_task_8/python_files/test.ipynb Cell 6\u001b[0m in \u001b[0;36mget_queue\u001b[0;34m(queue_name)\u001b[0m\n\u001b[1;32m      <a href='vscode-notebook-cell:/home/ndx/Innowise%20tasks/Innowise_task_8/python_files/test.ipynb#W5sZmlsZQ%3D%3D?line=3'>4</a>\u001b[0m \u001b[39m\"\"\"\u001b[39;00m\n\u001b[1;32m      <a href='vscode-notebook-cell:/home/ndx/Innowise%20tasks/Innowise_task_8/python_files/test.ipynb#W5sZmlsZQ%3D%3D?line=4'>5</a>\u001b[0m \u001b[39mReturns the URL of an existing Amazon SQS queue.\u001b[39;00m\n\u001b[1;32m      <a href='vscode-notebook-cell:/home/ndx/Innowise%20tasks/Innowise_task_8/python_files/test.ipynb#W5sZmlsZQ%3D%3D?line=5'>6</a>\u001b[0m \u001b[39m\"\"\"\u001b[39;00m\n\u001b[1;32m      <a href='vscode-notebook-cell:/home/ndx/Innowise%20tasks/Innowise_task_8/python_files/test.ipynb#W5sZmlsZQ%3D%3D?line=6'>7</a>\u001b[0m \u001b[39mtry\u001b[39;00m:\n\u001b[0;32m----> <a href='vscode-notebook-cell:/home/ndx/Innowise%20tasks/Innowise_task_8/python_files/test.ipynb#W5sZmlsZQ%3D%3D?line=7'>8</a>\u001b[0m     response \u001b[39m=\u001b[39m sqs_client\u001b[39m.\u001b[39;49mget_queue_url(QueueName\u001b[39m=\u001b[39;49mqueue_name)[\u001b[39m'\u001b[39m\u001b[39mQueueUrl\u001b[39m\u001b[39m'\u001b[39m]\n\u001b[1;32m     <a href='vscode-notebook-cell:/home/ndx/Innowise%20tasks/Innowise_task_8/python_files/test.ipynb#W5sZmlsZQ%3D%3D?line=9'>10</a>\u001b[0m \u001b[39mexcept\u001b[39;00m ClientError:\n\u001b[1;32m     <a href='vscode-notebook-cell:/home/ndx/Innowise%20tasks/Innowise_task_8/python_files/test.ipynb#W5sZmlsZQ%3D%3D?line=10'>11</a>\u001b[0m     logger\u001b[39m.\u001b[39mexception(\u001b[39mf\u001b[39m\u001b[39m'\u001b[39m\u001b[39mCould not get the \u001b[39m\u001b[39m{\u001b[39;00mqueue_name\u001b[39m}\u001b[39;00m\u001b[39m queue.\u001b[39m\u001b[39m'\u001b[39m)\n",
      "File \u001b[0;32m~/.local/lib/python3.8/site-packages/botocore/client.py:508\u001b[0m, in \u001b[0;36mClientCreator._create_api_method.<locals>._api_call\u001b[0;34m(self, *args, **kwargs)\u001b[0m\n\u001b[1;32m    504\u001b[0m     \u001b[39mraise\u001b[39;00m \u001b[39mTypeError\u001b[39;00m(\n\u001b[1;32m    505\u001b[0m         \u001b[39mf\u001b[39m\u001b[39m\"\u001b[39m\u001b[39m{\u001b[39;00mpy_operation_name\u001b[39m}\u001b[39;00m\u001b[39m() only accepts keyword arguments.\u001b[39m\u001b[39m\"\u001b[39m\n\u001b[1;32m    506\u001b[0m     )\n\u001b[1;32m    507\u001b[0m \u001b[39m# The \"self\" in this scope is referring to the BaseClient.\u001b[39;00m\n\u001b[0;32m--> 508\u001b[0m \u001b[39mreturn\u001b[39;00m \u001b[39mself\u001b[39;49m\u001b[39m.\u001b[39;49m_make_api_call(operation_name, kwargs)\n",
      "File \u001b[0;32m~/.local/lib/python3.8/site-packages/botocore/client.py:915\u001b[0m, in \u001b[0;36mBaseClient._make_api_call\u001b[0;34m(self, operation_name, api_params)\u001b[0m\n\u001b[1;32m    913\u001b[0m     error_code \u001b[39m=\u001b[39m parsed_response\u001b[39m.\u001b[39mget(\u001b[39m\"\u001b[39m\u001b[39mError\u001b[39m\u001b[39m\"\u001b[39m, {})\u001b[39m.\u001b[39mget(\u001b[39m\"\u001b[39m\u001b[39mCode\u001b[39m\u001b[39m\"\u001b[39m)\n\u001b[1;32m    914\u001b[0m     error_class \u001b[39m=\u001b[39m \u001b[39mself\u001b[39m\u001b[39m.\u001b[39mexceptions\u001b[39m.\u001b[39mfrom_code(error_code)\n\u001b[0;32m--> 915\u001b[0m     \u001b[39mraise\u001b[39;00m error_class(parsed_response, operation_name)\n\u001b[1;32m    916\u001b[0m \u001b[39melse\u001b[39;00m:\n\u001b[1;32m    917\u001b[0m     \u001b[39mreturn\u001b[39;00m parsed_response\n",
      "\u001b[0;31mQueueDoesNotExist\u001b[0m: An error occurred (AWS.SimpleQueueService.NonExistentQueue) when calling the GetQueueUrl operation: The specified queue does not exist for this wsdl version."
     ]
    }
   ],
   "source": [
    "sqs_client = boto3.client(\"sqs\", region_name=AWS_REGION, endpoint_url=endpoint_url)\n",
    "\n",
    "def get_queue(queue_name):\n",
    "    \"\"\"\n",
    "    Returns the URL of an existing Amazon SQS queue.\n",
    "    \"\"\"\n",
    "    try:\n",
    "        response = sqs_client.get_queue_url(QueueName=queue_name)['QueueUrl']\n",
    "\n",
    "    except ClientError:\n",
    "        logger.exception(f'Could not get the {queue_name} queue.')\n",
    "        raise\n",
    "    else:\n",
    "        return response\n",
    "\n",
    "get_queue('123')"
   ]
  },
  {
   "cell_type": "code",
   "execution_count": 56,
   "metadata": {},
   "outputs": [],
   "source": [
    "def delete_queue(queue_name):\n",
    "    \"\"\"\n",
    "    Deletes the queue specified by the QueueUrl.\n",
    "    \"\"\"\n",
    "    try:\n",
    "        response = sqs_client.delete_queue(QueueUrl=queue_name)\n",
    "\n",
    "    except ClientError:\n",
    "        logger.exception(f'Could not delete the {queue_name} queue.')\n",
    "        raise\n",
    "    else:\n",
    "        return response"
   ]
  },
  {
   "cell_type": "code",
   "execution_count": 57,
   "metadata": {},
   "outputs": [],
   "source": [
    "def send_queue_message(queue_url, msg_attributes, msg_body):\n",
    "    \"\"\"\n",
    "    Sends a message to the specified queue.\n",
    "    \"\"\"\n",
    "    try:\n",
    "        response = sqs_client.send_message(QueueUrl=queue_url,\n",
    "                                           MessageAttributes=msg_attributes,\n",
    "                                           MessageBody=msg_body)\n",
    "    except ClientError:\n",
    "        logger.exception(f'Could not send meessage to the - {queue_url}.')\n",
    "        raise\n",
    "    else:\n",
    "        return response"
   ]
  },
  {
   "cell_type": "code",
   "execution_count": 58,
   "metadata": {},
   "outputs": [],
   "source": [
    "def receive_queue_message(queue_url):\n",
    "    \"\"\"\n",
    "    Retrieves one or more messages (up to 10), from the specified queue.\n",
    "    \"\"\"\n",
    "    try:\n",
    "        response = sqs_client.receive_message(QueueUrl=queue_url)\n",
    "    except ClientError:\n",
    "        logger.exception(\n",
    "            f'Could not receive the message from the - {queue_url}.')\n",
    "        raise\n",
    "    else:\n",
    "        return response\n",
    "\n",
    "\n",
    "def delete_queue_message(queue_url, receipt_handle):\n",
    "    \"\"\"\n",
    "    Deletes the specified message from the specified queue.\n",
    "    \"\"\"\n",
    "    try:\n",
    "        response = sqs_client.delete_message(QueueUrl=queue_url,\n",
    "                                             ReceiptHandle=receipt_handle)\n",
    "    except ClientError:\n",
    "        logger.exception(\n",
    "            f'Could not delete the meessage from the - {queue_url}.')\n",
    "        raise\n",
    "    else:\n",
    "        return response"
   ]
  },
  {
   "cell_type": "code",
   "execution_count": 59,
   "metadata": {},
   "outputs": [
    {
     "data": {
      "text/plain": [
       "sqs.Queue(url='http://localhost:4566/000000000000/test-queue')"
      ]
     },
     "execution_count": 59,
     "metadata": {},
     "output_type": "execute_result"
    }
   ],
   "source": [
    "\n",
    "create_queue('test-queue', '0', '30')"
   ]
  },
  {
   "cell_type": "code",
   "execution_count": 60,
   "metadata": {},
   "outputs": [
    {
     "data": {
      "text/plain": [
       "'http://localhost:4566/000000000000/test-queue'"
      ]
     },
     "execution_count": 60,
     "metadata": {},
     "output_type": "execute_result"
    }
   ],
   "source": [
    "get_queue('test-queue')"
   ]
  },
  {
   "cell_type": "code",
   "execution_count": 61,
   "metadata": {},
   "outputs": [
    {
     "data": {
      "text/plain": [
       "{'MD5OfMessageBody': 'beaa0032306f083e847cbf86a09ba9b2',\n",
       " 'MessageId': 'a393f328-43cb-46fb-b463-7ab5e9673658',\n",
       " 'ResponseMetadata': {'RequestId': 'XBCOK33ACADNTKZ85GJ0SP4Y248EIADG9P781SFTYIHQXYVE2X6T',\n",
       "  'HTTPStatusCode': 200,\n",
       "  'HTTPHeaders': {'content-type': 'text/xml',\n",
       "   'content-length': '412',\n",
       "   'connection': 'close',\n",
       "   'access-control-allow-origin': '*',\n",
       "   'access-control-allow-methods': 'HEAD,GET,PUT,POST,DELETE,OPTIONS,PATCH',\n",
       "   'access-control-allow-headers': 'authorization,cache-control,content-length,content-md5,content-type,etag,location,x-amz-acl,x-amz-content-sha256,x-amz-date,x-amz-request-id,x-amz-security-token,x-amz-tagging,x-amz-target,x-amz-user-agent,x-amz-version-id,x-amzn-requestid,x-localstack-target,amz-sdk-invocation-id,amz-sdk-request',\n",
       "   'access-control-expose-headers': 'etag,x-amz-version-id',\n",
       "   'date': 'Fri, 19 Aug 2022 10:08:55 GMT',\n",
       "   'server': 'hypercorn-h11'},\n",
       "  'RetryAttempts': 0}}"
      ]
     },
     "execution_count": 61,
     "metadata": {},
     "output_type": "execute_result"
    }
   ],
   "source": [
    "send_queue_message(get_queue('test-queue'), {}, 'test-message')"
   ]
  },
  {
   "cell_type": "code",
   "execution_count": 62,
   "metadata": {},
   "outputs": [
    {
     "name": "stderr",
     "output_type": "stream",
     "text": [
      "2022-08-19 13:08:58,727: INFO: The message body: test-message\n",
      "2022-08-19 13:08:58,728: INFO: Deleting message from the queue...\n"
     ]
    },
    {
     "name": "stdout",
     "output_type": "stream",
     "text": [
      "{'Messages': [{'MessageId': 'a393f328-43cb-46fb-b463-7ab5e9673658', 'ReceiptHandle': 'MDM5NGExMjAtNDA2OS00MTMxLTkwYmYtMjEzOTNjOWNmNjI5IGFybjphd3M6c3FzOmV1LXdlc3QtMTowMDAwMDAwMDAwMDA6dGVzdC1xdWV1ZSBhMzkzZjMyOC00M2NiLTQ2ZmItYjQ2My03YWI1ZTk2NzM2NTggMTY2MDkwMzczOC43MjUxODk0', 'MD5OfBody': 'beaa0032306f083e847cbf86a09ba9b2', 'Body': 'test-message'}], 'ResponseMetadata': {'RequestId': 'AI0N5GU8YTS9F3LR6B61FJR3MYA3QYJBCFTE014G0534IWGL6OFL', 'HTTPStatusCode': 200, 'HTTPHeaders': {'content-type': 'text/xml', 'content-length': '669', 'connection': 'close', 'access-control-allow-origin': '*', 'access-control-allow-methods': 'HEAD,GET,PUT,POST,DELETE,OPTIONS,PATCH', 'access-control-allow-headers': 'authorization,cache-control,content-length,content-md5,content-type,etag,location,x-amz-acl,x-amz-content-sha256,x-amz-date,x-amz-request-id,x-amz-security-token,x-amz-tagging,x-amz-target,x-amz-user-agent,x-amz-version-id,x-amzn-requestid,x-localstack-target,amz-sdk-invocation-id,amz-sdk-request', 'access-control-expose-headers': 'etag,x-amz-version-id', 'date': 'Fri, 19 Aug 2022 10:08:58 GMT', 'server': 'hypercorn-h11'}, 'RetryAttempts': 0}}\n"
     ]
    }
   ],
   "source": [
    "QUEUE_URL = get_queue('test-queue')\n",
    "\n",
    "messages = receive_queue_message(QUEUE_URL)\n",
    "\n",
    "print(messages)\n",
    "for msg in messages['Messages']:\n",
    "    msg_body = msg['Body']\n",
    "    receipt_handle = msg['ReceiptHandle']\n",
    "\n",
    "    logger.info(f'The message body: {msg_body}')\n",
    "    logger.info('Deleting message from the queue...')\n",
    "\n",
    "    delete_queue_message(QUEUE_URL, receipt_handle)"
   ]
  },
  {
   "cell_type": "code",
   "execution_count": 5,
   "metadata": {},
   "outputs": [
    {
     "ename": "BucketAlreadyOwnedByYou",
     "evalue": "An error occurred (BucketAlreadyOwnedByYou) when calling the CreateBucket operation: Your previous request to create the named bucket succeeded and you already own it.",
     "output_type": "error",
     "traceback": [
      "\u001b[0;31m---------------------------------------------------------------------------\u001b[0m",
      "\u001b[0;31mBucketAlreadyOwnedByYou\u001b[0m                   Traceback (most recent call last)",
      "\u001b[1;32m/home/ndx/Innowise tasks/Innowise_task_8/python_files/test.ipynb Cell 15\u001b[0m in \u001b[0;36m<cell line: 10>\u001b[0;34m()\u001b[0m\n\u001b[1;32m      <a href='vscode-notebook-cell:/home/ndx/Innowise%20tasks/Innowise_task_8/python_files/test.ipynb#X20sZmlsZQ%3D%3D?line=6'>7</a>\u001b[0m bucket_name \u001b[39m=\u001b[39m \u001b[39m\"\u001b[39m\u001b[39mtest\u001b[39m\u001b[39m\"\u001b[39m\n\u001b[1;32m      <a href='vscode-notebook-cell:/home/ndx/Innowise%20tasks/Innowise_task_8/python_files/test.ipynb#X20sZmlsZQ%3D%3D?line=7'>8</a>\u001b[0m location \u001b[39m=\u001b[39m {\u001b[39m'\u001b[39m\u001b[39mLocationConstraint\u001b[39m\u001b[39m'\u001b[39m: AWS_REGION}\n\u001b[0;32m---> <a href='vscode-notebook-cell:/home/ndx/Innowise%20tasks/Innowise_task_8/python_files/test.ipynb#X20sZmlsZQ%3D%3D?line=9'>10</a>\u001b[0m response \u001b[39m=\u001b[39m client\u001b[39m.\u001b[39;49mcreate_bucket(Bucket\u001b[39m=\u001b[39;49m\u001b[39m'\u001b[39;49m\u001b[39mtest\u001b[39;49m\u001b[39m'\u001b[39;49m, CreateBucketConfiguration\u001b[39m=\u001b[39;49mlocation)\n\u001b[1;32m     <a href='vscode-notebook-cell:/home/ndx/Innowise%20tasks/Innowise_task_8/python_files/test.ipynb#X20sZmlsZQ%3D%3D?line=11'>12</a>\u001b[0m \u001b[39mprint\u001b[39m(\u001b[39m\"\u001b[39m\u001b[39mAmazon S3 bucket has been created\u001b[39m\u001b[39m\"\u001b[39m)\n",
      "File \u001b[0;32m~/.local/lib/python3.8/site-packages/botocore/client.py:508\u001b[0m, in \u001b[0;36mClientCreator._create_api_method.<locals>._api_call\u001b[0;34m(self, *args, **kwargs)\u001b[0m\n\u001b[1;32m    504\u001b[0m     \u001b[39mraise\u001b[39;00m \u001b[39mTypeError\u001b[39;00m(\n\u001b[1;32m    505\u001b[0m         \u001b[39mf\u001b[39m\u001b[39m\"\u001b[39m\u001b[39m{\u001b[39;00mpy_operation_name\u001b[39m}\u001b[39;00m\u001b[39m() only accepts keyword arguments.\u001b[39m\u001b[39m\"\u001b[39m\n\u001b[1;32m    506\u001b[0m     )\n\u001b[1;32m    507\u001b[0m \u001b[39m# The \"self\" in this scope is referring to the BaseClient.\u001b[39;00m\n\u001b[0;32m--> 508\u001b[0m \u001b[39mreturn\u001b[39;00m \u001b[39mself\u001b[39;49m\u001b[39m.\u001b[39;49m_make_api_call(operation_name, kwargs)\n",
      "File \u001b[0;32m~/.local/lib/python3.8/site-packages/botocore/client.py:915\u001b[0m, in \u001b[0;36mBaseClient._make_api_call\u001b[0;34m(self, operation_name, api_params)\u001b[0m\n\u001b[1;32m    913\u001b[0m     error_code \u001b[39m=\u001b[39m parsed_response\u001b[39m.\u001b[39mget(\u001b[39m\"\u001b[39m\u001b[39mError\u001b[39m\u001b[39m\"\u001b[39m, {})\u001b[39m.\u001b[39mget(\u001b[39m\"\u001b[39m\u001b[39mCode\u001b[39m\u001b[39m\"\u001b[39m)\n\u001b[1;32m    914\u001b[0m     error_class \u001b[39m=\u001b[39m \u001b[39mself\u001b[39m\u001b[39m.\u001b[39mexceptions\u001b[39m.\u001b[39mfrom_code(error_code)\n\u001b[0;32m--> 915\u001b[0m     \u001b[39mraise\u001b[39;00m error_class(parsed_response, operation_name)\n\u001b[1;32m    916\u001b[0m \u001b[39melse\u001b[39;00m:\n\u001b[1;32m    917\u001b[0m     \u001b[39mreturn\u001b[39;00m parsed_response\n",
      "\u001b[0;31mBucketAlreadyOwnedByYou\u001b[0m: An error occurred (BucketAlreadyOwnedByYou) when calling the CreateBucket operation: Your previous request to create the named bucket succeeded and you already own it."
     ]
    }
   ],
   "source": [
    "import boto3\n",
    "\n",
    "AWS_REGION = \"eu-west-1\"\n",
    "\n",
    "client = boto3.client(\"s3\", region_name=AWS_REGION, endpoint_url=endpoint_url)\n",
    "\n",
    "bucket_name = \"test\"\n",
    "location = {'LocationConstraint': AWS_REGION}\n",
    "\n",
    "response = client.create_bucket(Bucket='test', CreateBucketConfiguration=location)\n",
    "\n",
    "print(\"Amazon S3 bucket has been created\")"
   ]
  },
  {
   "cell_type": "code",
   "execution_count": 15,
   "metadata": {},
   "outputs": [
    {
     "name": "stdout",
     "output_type": "stream",
     "text": [
      "'/home/ndx/Innowise tasks/Innowise_task_8/README.md' has been uploaded to 'hands-on-cloud-demo-bucket'\n"
     ]
    }
   ],
   "source": [
    "import pathlib\n",
    "import boto3\n",
    "\n",
    "AWS_REGION = \"eu-west-1\"\n",
    "S3_BUCKET_NAME = \"hands-on-cloud-demo-bucket\"\n",
    "\n",
    "s3_client = boto3.client(\"s3\", region_name=AWS_REGION, endpoint_url=endpoint_url)\n",
    "\n",
    "def upload_files(file_name, bucket, object_name=None, args=None):\n",
    "    if object_name is None:\n",
    "        object_name = file_name\n",
    "\n",
    "    s3_client.upload_file(file_name, bucket, object_name, ExtraArgs=args)\n",
    "    print(f\"'{file_name}' has been uploaded to '{S3_BUCKET_NAME}'\")\n",
    "\n",
    "upload_files(f\"/home/ndx/Innowise tasks/Innowise_task_8/README.md\", S3_BUCKET_NAME)"
   ]
  },
  {
   "cell_type": "code",
   "execution_count": 11,
   "metadata": {},
   "outputs": [
    {
     "name": "stdout",
     "output_type": "stream",
     "text": [
      "Listing Amazon S3 Bucket objects/files:\n",
      "-- /home/ndx/Innowise tasks/Innowise_task_8/README.md\n",
      "-- /home/ndx/Innowise tasks/Innowise_task_8/split_data/split_data_2016-05.csv\n",
      "-- README.md\n"
     ]
    }
   ],
   "source": [
    "s3_resource = boto3.resource(\"s3\", region_name=AWS_REGION, endpoint_url=endpoint_url)\n",
    "\n",
    "s3_bucket = s3_resource.Bucket(S3_BUCKET_NAME)\n",
    "\n",
    "print('Listing Amazon S3 Bucket objects/files:')\n",
    "\n",
    "for obj in s3_bucket.objects.all():\n",
    "    print(f'-- {obj.key}')"
   ]
  },
  {
   "cell_type": "code",
   "execution_count": 51,
   "metadata": {},
   "outputs": [
    {
     "name": "stdout",
     "output_type": "stream",
     "text": [
      "S3 object download complete\n"
     ]
    }
   ],
   "source": [
    "s3_resource = boto3.resource(\"s3\", region_name=AWS_REGION, endpoint_url=endpoint_url)\n",
    "\n",
    "s3_object = s3_resource.Object(S3_BUCKET_NAME, '/home/ndx/Innowise tasks/Innowise_task_8/README.md')\n",
    "\n",
    "s3_object.download_file('./README.md')\n",
    "\n",
    "print('S3 object download complete')"
   ]
  },
  {
   "cell_type": "code",
   "execution_count": 10,
   "metadata": {},
   "outputs": [],
   "source": [
    "import io\n",
    "\n",
    "s3_client = boto3.client(\"s3\", region_name=AWS_REGION, endpoint_url=endpoint_url)\n",
    "def upload_generated_file_object(bucket, object_name, file_name):\n",
    "\n",
    "    with open(file_name, 'rb') as f:\n",
    "        s3_client.upload_fileobj(f, bucket, object_name)\n",
    "        print(f\"Generated has been uploaded to '{bucket}'\")"
   ]
  },
  {
   "cell_type": "code",
   "execution_count": 40,
   "metadata": {},
   "outputs": [],
   "source": [
    "AWS_REGION = \"eu-west-1\"\n",
    "\n",
    "client = boto3.client(\"s3\", region_name=AWS_REGION, endpoint_url=endpoint_url)\n",
    "\n",
    "bucket_name = \"hands-on-cloud-demo-bucket\"\n",
    "location = {'LocationConstraint': AWS_REGION}"
   ]
  },
  {
   "cell_type": "code",
   "execution_count": 13,
   "metadata": {},
   "outputs": [
    {
     "name": "stdout",
     "output_type": "stream",
     "text": [
      "Amazon S3 bucket has been created\n"
     ]
    }
   ],
   "source": [
    "response = client.create_bucket(Bucket='test', CreateBucketConfiguration=location)\n",
    "\n",
    "print(\"Amazon S3 bucket has been created\")"
   ]
  },
  {
   "cell_type": "code",
   "execution_count": 63,
   "metadata": {},
   "outputs": [
    {
     "data": {
      "text/plain": [
       "b'First line.\\nSecond line.\\n'"
      ]
     },
     "execution_count": 63,
     "metadata": {},
     "output_type": "execute_result"
    }
   ],
   "source": [
    "s3_resource = boto3.resource(\"s3\", region_name=AWS_REGION, endpoint_url=endpoint_url)\n",
    "\n",
    "def read_file_from_s3(name_of_file):\n",
    "    s3_object = s3_resource.Object('test', name_of_file)\n",
    "\n",
    "    with io.BytesIO() as f:\n",
    "        s3_object.download_fileobj(f)\n",
    "\n",
    "        f.seek(0)\n",
    "        return f.read()\n",
    "\n",
    "read_file_from_s3('README.md')"
   ]
  },
  {
   "cell_type": "code",
   "execution_count": 32,
   "metadata": {},
   "outputs": [
    {
     "name": "stdout",
     "output_type": "stream",
     "text": [
      "Generated has been uploaded to 'test'\n"
     ]
    }
   ],
   "source": [
    "upload_generated_file_object('test', 'test.csv', '/home/ndx/Innowise tasks/Innowise_task_8/split_data/test.csv')"
   ]
  },
  {
   "cell_type": "code",
   "execution_count": 43,
   "metadata": {},
   "outputs": [
    {
     "name": "stdout",
     "output_type": "stream",
     "text": [
      "departure,return,departure_id,departure_name,return_id,return_name,distance (m),duration (sec.),avg_speed (km/h),departure_latitude,departure_longitude,return_latitude,return_longitude,Air temperature (degC),month\\n2016-05-02 09:31:00,2016-05-02 09:32:00,A10,Erottajan aukio,A10,Erottajan aukio,2.0,68.0,0.0017647058823529,60.166890083486,24.9442610720753,60.166890083486,24.9442610720753,14.1,2016-05\\n2016-05-02 09:58:00,2016-05-02 09:59:00,A10,Erottajan aukio,A10,Erottajan aukio,2.0,36.0,0.0033333333333333,60.166890083486,24.9442610720753,60.166890083486,24.9442610720753,14.1,2016-05\\n\n"
     ]
    },
    {
     "data": {
      "text/html": [
       "<div>\n",
       "<style scoped>\n",
       "    .dataframe tbody tr th:only-of-type {\n",
       "        vertical-align: middle;\n",
       "    }\n",
       "\n",
       "    .dataframe tbody tr th {\n",
       "        vertical-align: top;\n",
       "    }\n",
       "\n",
       "    .dataframe thead th {\n",
       "        text-align: right;\n",
       "    }\n",
       "</style>\n",
       "<table border=\"1\" class=\"dataframe\">\n",
       "  <thead>\n",
       "    <tr style=\"text-align: right;\">\n",
       "      <th></th>\n",
       "      <th>departure</th>\n",
       "      <th>return</th>\n",
       "      <th>departure_id</th>\n",
       "      <th>departure_name</th>\n",
       "      <th>return_id</th>\n",
       "      <th>return_name</th>\n",
       "      <th>distance (m)</th>\n",
       "      <th>duration (sec.)</th>\n",
       "      <th>avg_speed (km/h)</th>\n",
       "      <th>departure_latitude</th>\n",
       "      <th>...</th>\n",
       "      <th>Erottajan aukio.3</th>\n",
       "      <th>2.0.1</th>\n",
       "      <th>36.0</th>\n",
       "      <th>0.0033333333333333</th>\n",
       "      <th>60.166890083486.2</th>\n",
       "      <th>24.9442610720753.2</th>\n",
       "      <th>60.166890083486.3</th>\n",
       "      <th>24.9442610720753.3</th>\n",
       "      <th>14.1.1</th>\n",
       "      <th>2016-05\\n</th>\n",
       "    </tr>\n",
       "  </thead>\n",
       "  <tbody>\n",
       "  </tbody>\n",
       "</table>\n",
       "<p>0 rows × 43 columns</p>\n",
       "</div>"
      ],
      "text/plain": [
       "Empty DataFrame\n",
       "Columns: [departure, return, departure_id, departure_name, return_id, return_name, distance (m), duration (sec.), avg_speed (km/h), departure_latitude, departure_longitude, return_latitude, return_longitude, Air temperature (degC), month\\n2016-05-02 09:31:00, 2016-05-02 09:32:00, A10, Erottajan aukio, A10.1, Erottajan aukio.1, 2.0, 68.0, 0.0017647058823529, 60.166890083486, 24.9442610720753, 60.166890083486.1, 24.9442610720753.1, 14.1, 2016-05\\n2016-05-02 09:58:00, 2016-05-02 09:59:00, A10.2, Erottajan aukio.2, A10.3, Erottajan aukio.3, 2.0.1, 36.0, 0.0033333333333333, 60.166890083486.2, 24.9442610720753.2, 60.166890083486.3, 24.9442610720753.3, 14.1.1, 2016-05\\n]\n",
       "Index: []\n",
       "\n",
       "[0 rows x 43 columns]"
      ]
     },
     "execution_count": 43,
     "metadata": {},
     "output_type": "execute_result"
    }
   ],
   "source": [
    "import pandas as pd\n",
    "from io import StringIO\n",
    "\n",
    "data = read_file_from_s3('test.csv').__str__()[2:-1]\n",
    "print(data)\n",
    "data = StringIO(data)\n",
    "df = pd.read_csv(data, sep=',')\n",
    "df"
   ]
  },
  {
   "cell_type": "code",
   "execution_count": 45,
   "metadata": {},
   "outputs": [
    {
     "data": {
      "text/html": [
       "<div>\n",
       "<style scoped>\n",
       "    .dataframe tbody tr th:only-of-type {\n",
       "        vertical-align: middle;\n",
       "    }\n",
       "\n",
       "    .dataframe tbody tr th {\n",
       "        vertical-align: top;\n",
       "    }\n",
       "\n",
       "    .dataframe thead th {\n",
       "        text-align: right;\n",
       "    }\n",
       "</style>\n",
       "<table border=\"1\" class=\"dataframe\">\n",
       "  <thead>\n",
       "    <tr style=\"text-align: right;\">\n",
       "      <th></th>\n",
       "      <th>departure</th>\n",
       "      <th>return</th>\n",
       "      <th>departure_id</th>\n",
       "      <th>departure_name</th>\n",
       "      <th>return_id</th>\n",
       "      <th>return_name</th>\n",
       "      <th>distance (m)</th>\n",
       "      <th>duration (sec.)</th>\n",
       "      <th>avg_speed (km/h)</th>\n",
       "      <th>departure_latitude</th>\n",
       "      <th>departure_longitude</th>\n",
       "      <th>return_latitude</th>\n",
       "      <th>return_longitude</th>\n",
       "      <th>Air temperature (degC)</th>\n",
       "      <th>month</th>\n",
       "    </tr>\n",
       "  </thead>\n",
       "  <tbody>\n",
       "    <tr>\n",
       "      <th>0</th>\n",
       "      <td>2016-05-02 09:31:00</td>\n",
       "      <td>2016-05-02 09:32:00</td>\n",
       "      <td>A10</td>\n",
       "      <td>Erottajan aukio</td>\n",
       "      <td>A10</td>\n",
       "      <td>Erottajan aukio</td>\n",
       "      <td>2.0</td>\n",
       "      <td>68.0</td>\n",
       "      <td>0.001765</td>\n",
       "      <td>60.16689</td>\n",
       "      <td>24.944261</td>\n",
       "      <td>60.16689</td>\n",
       "      <td>24.944261</td>\n",
       "      <td>14.1</td>\n",
       "      <td>2016-05</td>\n",
       "    </tr>\n",
       "    <tr>\n",
       "      <th>1</th>\n",
       "      <td>2016-05-02 09:58:00</td>\n",
       "      <td>2016-05-02 09:59:00</td>\n",
       "      <td>A10</td>\n",
       "      <td>Erottajan aukio</td>\n",
       "      <td>A10</td>\n",
       "      <td>Erottajan aukio</td>\n",
       "      <td>2.0</td>\n",
       "      <td>36.0</td>\n",
       "      <td>0.003333</td>\n",
       "      <td>60.16689</td>\n",
       "      <td>24.944261</td>\n",
       "      <td>60.16689</td>\n",
       "      <td>24.944261</td>\n",
       "      <td>14.1</td>\n",
       "      <td>2016-05</td>\n",
       "    </tr>\n",
       "  </tbody>\n",
       "</table>\n",
       "</div>"
      ],
      "text/plain": [
       "             departure               return departure_id   departure_name  \\\n",
       "0  2016-05-02 09:31:00  2016-05-02 09:32:00          A10  Erottajan aukio   \n",
       "1  2016-05-02 09:58:00  2016-05-02 09:59:00          A10  Erottajan aukio   \n",
       "\n",
       "  return_id      return_name  distance (m)  duration (sec.)  avg_speed (km/h)  \\\n",
       "0       A10  Erottajan aukio           2.0             68.0          0.001765   \n",
       "1       A10  Erottajan aukio           2.0             36.0          0.003333   \n",
       "\n",
       "   departure_latitude  departure_longitude  return_latitude  return_longitude  \\\n",
       "0            60.16689            24.944261         60.16689         24.944261   \n",
       "1            60.16689            24.944261         60.16689         24.944261   \n",
       "\n",
       "   Air temperature (degC)    month  \n",
       "0                    14.1  2016-05  \n",
       "1                    14.1  2016-05  "
      ]
     },
     "execution_count": 45,
     "metadata": {},
     "output_type": "execute_result"
    }
   ],
   "source": [
    "data = read_file_from_s3('test.csv')\n",
    "s=str(data,'utf-8')\n",
    "\n",
    "data = StringIO(s) \n",
    "\n",
    "df=pd.read_csv(data)\n",
    "df"
   ]
  },
  {
   "cell_type": "code",
   "execution_count": 50,
   "metadata": {},
   "outputs": [
    {
     "data": {
      "text/plain": [
       "['hands-on-cloud-demo-bucket', 'test']"
      ]
     },
     "execution_count": 50,
     "metadata": {},
     "output_type": "execute_result"
    }
   ],
   "source": [
    "response = s3_client.list_buckets() \n",
    "list(map(lambda item: item['Name'], response['Buckets']))"
   ]
  },
  {
   "cell_type": "code",
   "execution_count": null,
   "metadata": {},
   "outputs": [],
   "source": []
  }
 ],
 "metadata": {
  "kernelspec": {
   "display_name": "Python 3.8.10 64-bit",
   "language": "python",
   "name": "python3"
  },
  "language_info": {
   "codemirror_mode": {
    "name": "ipython",
    "version": 3
   },
   "file_extension": ".py",
   "mimetype": "text/x-python",
   "name": "python",
   "nbconvert_exporter": "python",
   "pygments_lexer": "ipython3",
   "version": "3.8.10"
  },
  "orig_nbformat": 4,
  "vscode": {
   "interpreter": {
    "hash": "916dbcbb3f70747c44a77c7bcd40155683ae19c65e1c03b4aa3499c5328201f1"
   }
  }
 },
 "nbformat": 4,
 "nbformat_minor": 2
}
